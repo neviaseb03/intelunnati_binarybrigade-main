{
 "cells": [
  {
   "cell_type": "code",
   "execution_count": 1,
   "id": "b2fc1c8c-f39a-4e69-a560-92ae5df32057",
   "metadata": {
    "tags": []
   },
   "outputs": [
    {
     "name": "stderr",
     "output_type": "stream",
     "text": [
      "/opt/intel/inteloneapi/pytorch/latest/lib/python3.9/site-packages/scipy/__init__.py:146: UserWarning: A NumPy version >=1.16.5 and <1.23.0 is required for this version of SciPy (detected version 1.23.5\n",
      "  warnings.warn(f\"A NumPy version >={np_minversion} and <{np_maxversion}\"\n",
      "[nltk_data] Downloading package punkt to /home/u194151/nltk_data...\n",
      "[nltk_data]   Package punkt is already up-to-date!\n",
      "[nltk_data] Downloading package stopwords to\n",
      "[nltk_data]     /home/u194151/nltk_data...\n",
      "[nltk_data]   Package stopwords is already up-to-date!\n"
     ]
    }
   ],
   "source": [
    "import pandas as pd\n",
    "import seaborn as sns\n",
    "import matplotlib.pyplot as plt\n",
    "import numpy as np\n",
    "import re\n",
    "import nltk\n",
    "import os\n",
    "nltk.download('punkt')\n",
    "nltk.download('stopwords')\n",
    "from nltk.tokenize import word_tokenize\n",
    "from sklearn.model_selection import train_test_split\n",
    "from sklearn.metrics import accuracy_score\n",
    "from sklearn.linear_model import LogisticRegression\n"
   ]
  },
  {
   "cell_type": "code",
   "execution_count": null,
   "id": "faadd83f-690f-4794-ae4a-6a89fc1cdbaa",
   "metadata": {},
   "outputs": [],
   "source": []
  },
  {
   "cell_type": "code",
   "execution_count": 2,
   "id": "da350228-5122-42c8-bd69-108dbb2023a8",
   "metadata": {},
   "outputs": [],
   "source": [
    "import torch"
   ]
  },
  {
   "cell_type": "code",
   "execution_count": 3,
   "id": "b0cf372d-9b30-43d7-aa1c-a6d04c131f0e",
   "metadata": {},
   "outputs": [
    {
     "name": "stdout",
     "output_type": "stream",
     "text": [
      "2.0.1+cu117\n"
     ]
    }
   ],
   "source": [
    "print(torch.__version__)"
   ]
  },
  {
   "cell_type": "markdown",
   "id": "16a3a5f6-1acb-4856-bdb8-3614c98ac30f",
   "metadata": {},
   "source": [
    "##lol testing this out"
   ]
  },
  {
   "cell_type": "code",
   "execution_count": 4,
   "id": "ebec7172-02a6-4841-b37e-c7e121aac5b9",
   "metadata": {},
   "outputs": [],
   "source": [
    " ten_1 = torch.rand(3,10,10)"
   ]
  },
  {
   "cell_type": "code",
   "execution_count": 5,
   "id": "fdc63895-5e06-4e32-831f-bfc1554ff792",
   "metadata": {},
   "outputs": [
    {
     "name": "stdout",
     "output_type": "stream",
     "text": [
      "tensor([[[0.2908, 0.8636, 0.0103, 0.5735, 0.3265, 0.0846, 0.4394, 0.6300,\n",
      "          0.9026, 0.0260],\n",
      "         [0.2704, 0.9776, 0.1116, 0.5735, 0.9913, 0.4010, 0.7880, 0.3897,\n",
      "          0.0315, 0.5689],\n",
      "         [0.8833, 0.0361, 0.1762, 0.4806, 0.7982, 0.3879, 0.9116, 0.2505,\n",
      "          0.0115, 0.8602],\n",
      "         [0.8236, 0.8850, 0.3155, 0.2928, 0.6255, 0.7082, 0.8248, 0.8912,\n",
      "          0.8340, 0.6598],\n",
      "         [0.1184, 0.3954, 0.5878, 0.9203, 0.8464, 0.0936, 0.8404, 0.4680,\n",
      "          0.2117, 0.8602],\n",
      "         [0.1038, 0.7662, 0.6479, 0.8972, 0.2929, 0.6987, 0.6385, 0.9739,\n",
      "          0.3351, 0.0271],\n",
      "         [0.3213, 0.1195, 0.1648, 0.7900, 0.9436, 0.5474, 0.9652, 0.0131,\n",
      "          0.3254, 0.8155],\n",
      "         [0.7123, 0.3558, 0.3267, 0.2935, 0.3711, 0.5858, 0.9360, 0.7740,\n",
      "          0.1394, 0.5150],\n",
      "         [0.3415, 0.8540, 0.2973, 0.4785, 0.5114, 0.1812, 0.3807, 0.8320,\n",
      "          0.8295, 0.6477],\n",
      "         [0.3807, 0.0666, 0.8363, 0.4087, 0.2954, 0.3594, 0.8736, 0.4650,\n",
      "          0.9085, 0.1171]],\n",
      "\n",
      "        [[0.9253, 0.7880, 0.5641, 0.6825, 0.4382, 0.0295, 0.2108, 0.0338,\n",
      "          0.5398, 0.0566],\n",
      "         [0.3819, 0.2573, 0.4326, 0.4681, 0.1706, 0.4727, 0.9123, 0.9989,\n",
      "          0.7161, 0.2455],\n",
      "         [0.3729, 0.9066, 0.4393, 0.7019, 0.2264, 0.2990, 0.1922, 0.9565,\n",
      "          0.4839, 0.2377],\n",
      "         [0.9179, 0.5171, 0.9013, 0.5040, 0.3854, 0.4977, 0.5849, 0.3029,\n",
      "          0.5424, 0.2155],\n",
      "         [0.1644, 0.2705, 0.1840, 0.7212, 0.0561, 0.5935, 0.2179, 0.1849,\n",
      "          0.0891, 0.2070],\n",
      "         [0.8664, 0.9951, 0.9310, 0.3206, 0.0702, 0.3113, 0.6640, 0.5170,\n",
      "          0.4929, 0.0119],\n",
      "         [0.7331, 0.5694, 0.4690, 0.7181, 0.1993, 0.7469, 0.1489, 0.9942,\n",
      "          0.9122, 0.9356],\n",
      "         [0.1494, 0.2425, 0.4971, 0.2247, 0.0027, 0.7562, 0.7639, 0.9634,\n",
      "          0.6609, 0.9937],\n",
      "         [0.3782, 0.6224, 0.3182, 0.5281, 0.2155, 0.4184, 0.0357, 0.0253,\n",
      "          0.9840, 0.2613],\n",
      "         [0.3832, 0.4168, 0.8278, 0.2931, 0.1555, 0.5941, 0.4649, 0.0861,\n",
      "          0.2120, 0.6108]],\n",
      "\n",
      "        [[0.6027, 0.1557, 0.6400, 0.0659, 0.5759, 0.2101, 0.0850, 0.4659,\n",
      "          0.2694, 0.5975],\n",
      "         [0.3561, 0.8221, 0.3800, 0.1748, 0.0017, 0.2431, 0.5196, 0.4616,\n",
      "          0.4538, 0.7690],\n",
      "         [0.4230, 0.3474, 0.4206, 0.7576, 0.2617, 0.9553, 0.2518, 0.6928,\n",
      "          0.9725, 0.3502],\n",
      "         [0.3408, 0.7794, 0.3330, 0.3176, 0.9007, 0.9715, 0.3248, 0.7661,\n",
      "          0.6373, 0.4546],\n",
      "         [0.0700, 0.1375, 0.5371, 0.0150, 0.4462, 0.2026, 0.7261, 0.3267,\n",
      "          0.4395, 0.2678],\n",
      "         [0.3764, 0.3902, 0.1679, 0.4008, 0.3028, 0.4246, 0.1664, 0.5337,\n",
      "          0.1518, 0.1929],\n",
      "         [0.4235, 0.0650, 0.5910, 0.3364, 0.7967, 0.6183, 0.6932, 0.8359,\n",
      "          0.8042, 0.5657],\n",
      "         [0.8231, 0.2624, 0.8820, 0.6923, 0.5355, 0.1854, 0.5614, 0.4707,\n",
      "          0.5113, 0.7386],\n",
      "         [0.2438, 0.8525, 0.4763, 0.8562, 0.2679, 0.3944, 0.2501, 0.6653,\n",
      "          0.6374, 0.7564],\n",
      "         [0.0508, 0.6155, 0.0881, 0.6822, 0.0903, 0.3434, 0.8174, 0.2652,\n",
      "          0.7156, 0.6024]]])\n",
      "Shape of tensor: torch.Size([3, 10, 10])\n",
      "Datatype of tensor: torch.float32\n",
      "Device tensor is stored on: cpu\n"
     ]
    }
   ],
   "source": [
    "print(ten_1)\n",
    "print(f\"Shape of tensor: {ten_1.shape}\")\n",
    "print(f\"Datatype of tensor: {ten_1.dtype}\")\n",
    "print(f\"Device tensor is stored on: {ten_1.device}\")"
   ]
  },
  {
   "cell_type": "code",
   "execution_count": 6,
   "id": "ea8f0d45-9703-4035-a163-c4421ef5c2a6",
   "metadata": {},
   "outputs": [
    {
     "data": {
      "text/plain": [
       "(tensor([[[0.0043, 0.1056, 0.2858],\n",
       "          [0.0270, 0.4716, 0.0601],\n",
       "          [0.7719, 0.7437, 0.5944]]]),\n",
       " tensor([[[0.0043, 0.1056, 0.2858],\n",
       "          [0.0270, 0.4716, 0.0601],\n",
       "          [0.7719, 0.7437, 0.5944]]]))"
      ]
     },
     "execution_count": 6,
     "metadata": {},
     "output_type": "execute_result"
    }
   ],
   "source": [
    "random_seed = 3\n",
    "\n",
    "torch.manual_seed(random_seed)\n",
    "ten_3 = torch.rand(1,3,3)\n",
    "\n",
    "torch.manual_seed(random_seed)\n",
    "ten_4= torch.rand(1,3,3)\n",
    "\n",
    "ten_3, ten_4"
   ]
  },
  {
   "cell_type": "code",
   "execution_count": 7,
   "id": "d42a934b-879a-474e-a40d-47d60a811716",
   "metadata": {},
   "outputs": [],
   "source": [
    "from torch import nn"
   ]
  },
  {
   "cell_type": "code",
   "execution_count": 8,
   "id": "ae538f43-874e-4b26-befa-ab028e64363e",
   "metadata": {},
   "outputs": [],
   "source": [
    "# Base text and natural language processing library\n",
    "import torchtext\n",
    "\n",
    "# Other components of TorchText (premade datasets, pretrained models and text transforms)\n",
    "from torchtext import datasets, models, transforms"
   ]
  },
  {
   "cell_type": "code",
   "execution_count": 9,
   "id": "5b268f6c-ede5-47a0-8975-e02cf3c9f704",
   "metadata": {},
   "outputs": [],
   "source": [
    "# Import PyTorch Dataset (you can store your data here) and DataLoader (you can load your data here)\n",
    "from torch.utils.data import Dataset, DataLoader"
   ]
  },
  {
   "cell_type": "code",
   "execution_count": 10,
   "id": "a6285f18-9697-41ec-ae39-916df17cceec",
   "metadata": {},
   "outputs": [],
   "source": [
    "SEED = 2019\n",
    "\n",
    "#Torch\n",
    "torch.manual_seed(SEED)\n",
    "\n",
    "#Cuda algorithms\n",
    "torch.backends.cudnn.deterministic = True  "
   ]
  },
  {
   "cell_type": "code",
   "execution_count": 11,
   "id": "ae56ecfc-e600-4d6f-a892-2bc70ccbf10b",
   "metadata": {},
   "outputs": [],
   "source": [
    "import torch\n",
    "import os\n",
    "import pathlib\n",
    "import numpy as np\n",
    "import string\n",
    "import re\n",
    "import glob\n",
    "import torch.nn as nn\n",
    "import torch.nn.functional as F\n",
    "import torch.optim as optim\n",
    "import matplotlib.pyplot as plt\n",
    "from tqdm.auto import tqdm\n",
    "from collections import Counter\n",
    "from torch.utils.data import DataLoader, Dataset, Subset\n",
    "plt.style.use('ggplot')"
   ]
  },
  {
   "cell_type": "code",
   "execution_count": 12,
   "id": "2eea0ee5-35ba-4c34-ad48-97c2c210c97a",
   "metadata": {},
   "outputs": [],
   "source": [
    "# Set seed.\n",
    "seed = 3\n",
    "np.random.seed(seed)\n",
    "torch.manual_seed(seed)\n",
    "torch.cuda.manual_seed(seed)\n",
    "torch.backends.cudnn.deterministic = True\n",
    "torch.backends.cudnn.benchmark = True"
   ]
  },
  {
   "cell_type": "code",
   "execution_count": 13,
   "id": "fae479da-37b0-4837-9e8a-992d95296332",
   "metadata": {},
   "outputs": [],
   "source": [
    "def find_longest_length(text_file_paths):\n",
    "   \n",
    "    max_length = 0\n",
    "    for path in text_file_paths:\n",
    "        with open(path, 'r') as f:\n",
    "            text = f.read()\n",
    "            # Remove <br> tags.\n",
    "            text = re.sub('<[^>]+>+', '', text)\n",
    "            corpus = [\n",
    "                word for word in text.split()\n",
    "            ]\n",
    "        if len(corpus) > max_length:\n",
    "            max_length = len(corpus)\n",
    "    return max_length"
   ]
  },
  {
   "cell_type": "code",
   "execution_count": 14,
   "id": "8c770e98-2f77-4a5d-968e-4cf3ee08097a",
   "metadata": {},
   "outputs": [
    {
     "data": {
      "text/html": [
       "<div>\n",
       "<style scoped>\n",
       "    .dataframe tbody tr th:only-of-type {\n",
       "        vertical-align: middle;\n",
       "    }\n",
       "\n",
       "    .dataframe tbody tr th {\n",
       "        vertical-align: top;\n",
       "    }\n",
       "\n",
       "    .dataframe thead th {\n",
       "        text-align: right;\n",
       "    }\n",
       "</style>\n",
       "<table border=\"1\" class=\"dataframe\">\n",
       "  <thead>\n",
       "    <tr style=\"text-align: right;\">\n",
       "      <th></th>\n",
       "      <th>title</th>\n",
       "      <th>text</th>\n",
       "      <th>subject</th>\n",
       "      <th>date</th>\n",
       "    </tr>\n",
       "  </thead>\n",
       "  <tbody>\n",
       "    <tr>\n",
       "      <th>0</th>\n",
       "      <td>Donald Trump Sends Out Embarrassing New Year’...</td>\n",
       "      <td>Donald Trump just couldn t wish all Americans ...</td>\n",
       "      <td>News</td>\n",
       "      <td>December 31, 2017</td>\n",
       "    </tr>\n",
       "    <tr>\n",
       "      <th>1</th>\n",
       "      <td>Drunk Bragging Trump Staffer Started Russian ...</td>\n",
       "      <td>House Intelligence Committee Chairman Devin Nu...</td>\n",
       "      <td>News</td>\n",
       "      <td>December 31, 2017</td>\n",
       "    </tr>\n",
       "    <tr>\n",
       "      <th>2</th>\n",
       "      <td>Sheriff David Clarke Becomes An Internet Joke...</td>\n",
       "      <td>On Friday, it was revealed that former Milwauk...</td>\n",
       "      <td>News</td>\n",
       "      <td>December 30, 2017</td>\n",
       "    </tr>\n",
       "    <tr>\n",
       "      <th>3</th>\n",
       "      <td>Trump Is So Obsessed He Even Has Obama’s Name...</td>\n",
       "      <td>On Christmas day, Donald Trump announced that ...</td>\n",
       "      <td>News</td>\n",
       "      <td>December 29, 2017</td>\n",
       "    </tr>\n",
       "    <tr>\n",
       "      <th>4</th>\n",
       "      <td>Pope Francis Just Called Out Donald Trump Dur...</td>\n",
       "      <td>Pope Francis used his annual Christmas Day mes...</td>\n",
       "      <td>News</td>\n",
       "      <td>December 25, 2017</td>\n",
       "    </tr>\n",
       "  </tbody>\n",
       "</table>\n",
       "</div>"
      ],
      "text/plain": [
       "                                               title  \\\n",
       "0   Donald Trump Sends Out Embarrassing New Year’...   \n",
       "1   Drunk Bragging Trump Staffer Started Russian ...   \n",
       "2   Sheriff David Clarke Becomes An Internet Joke...   \n",
       "3   Trump Is So Obsessed He Even Has Obama’s Name...   \n",
       "4   Pope Francis Just Called Out Donald Trump Dur...   \n",
       "\n",
       "                                                text subject  \\\n",
       "0  Donald Trump just couldn t wish all Americans ...    News   \n",
       "1  House Intelligence Committee Chairman Devin Nu...    News   \n",
       "2  On Friday, it was revealed that former Milwauk...    News   \n",
       "3  On Christmas day, Donald Trump announced that ...    News   \n",
       "4  Pope Francis used his annual Christmas Day mes...    News   \n",
       "\n",
       "                date  \n",
       "0  December 31, 2017  \n",
       "1  December 31, 2017  \n",
       "2  December 30, 2017  \n",
       "3  December 29, 2017  \n",
       "4  December 25, 2017  "
      ]
     },
     "execution_count": 14,
     "metadata": {},
     "output_type": "execute_result"
    }
   ],
   "source": [
    "fake_data = pd.read_csv('data/Fake.csv')\n",
    "fake_data.head()"
   ]
  },
  {
   "cell_type": "code",
   "execution_count": 15,
   "id": "a38cbbb6-a1fe-4928-832f-03a9840af22f",
   "metadata": {},
   "outputs": [
    {
     "data": {
      "text/html": [
       "<div>\n",
       "<style scoped>\n",
       "    .dataframe tbody tr th:only-of-type {\n",
       "        vertical-align: middle;\n",
       "    }\n",
       "\n",
       "    .dataframe tbody tr th {\n",
       "        vertical-align: top;\n",
       "    }\n",
       "\n",
       "    .dataframe thead th {\n",
       "        text-align: right;\n",
       "    }\n",
       "</style>\n",
       "<table border=\"1\" class=\"dataframe\">\n",
       "  <thead>\n",
       "    <tr style=\"text-align: right;\">\n",
       "      <th></th>\n",
       "      <th>title</th>\n",
       "      <th>text</th>\n",
       "      <th>subject</th>\n",
       "      <th>date</th>\n",
       "    </tr>\n",
       "  </thead>\n",
       "  <tbody>\n",
       "    <tr>\n",
       "      <th>0</th>\n",
       "      <td>As U.S. budget fight looms, Republicans flip t...</td>\n",
       "      <td>WASHINGTON (Reuters) - The head of a conservat...</td>\n",
       "      <td>politicsNews</td>\n",
       "      <td>December 31, 2017</td>\n",
       "    </tr>\n",
       "    <tr>\n",
       "      <th>1</th>\n",
       "      <td>U.S. military to accept transgender recruits o...</td>\n",
       "      <td>WASHINGTON (Reuters) - Transgender people will...</td>\n",
       "      <td>politicsNews</td>\n",
       "      <td>December 29, 2017</td>\n",
       "    </tr>\n",
       "    <tr>\n",
       "      <th>2</th>\n",
       "      <td>Senior U.S. Republican senator: 'Let Mr. Muell...</td>\n",
       "      <td>WASHINGTON (Reuters) - The special counsel inv...</td>\n",
       "      <td>politicsNews</td>\n",
       "      <td>December 31, 2017</td>\n",
       "    </tr>\n",
       "    <tr>\n",
       "      <th>3</th>\n",
       "      <td>FBI Russia probe helped by Australian diplomat...</td>\n",
       "      <td>WASHINGTON (Reuters) - Trump campaign adviser ...</td>\n",
       "      <td>politicsNews</td>\n",
       "      <td>December 30, 2017</td>\n",
       "    </tr>\n",
       "    <tr>\n",
       "      <th>4</th>\n",
       "      <td>Trump wants Postal Service to charge 'much mor...</td>\n",
       "      <td>SEATTLE/WASHINGTON (Reuters) - President Donal...</td>\n",
       "      <td>politicsNews</td>\n",
       "      <td>December 29, 2017</td>\n",
       "    </tr>\n",
       "  </tbody>\n",
       "</table>\n",
       "</div>"
      ],
      "text/plain": [
       "                                               title  \\\n",
       "0  As U.S. budget fight looms, Republicans flip t...   \n",
       "1  U.S. military to accept transgender recruits o...   \n",
       "2  Senior U.S. Republican senator: 'Let Mr. Muell...   \n",
       "3  FBI Russia probe helped by Australian diplomat...   \n",
       "4  Trump wants Postal Service to charge 'much mor...   \n",
       "\n",
       "                                                text       subject  \\\n",
       "0  WASHINGTON (Reuters) - The head of a conservat...  politicsNews   \n",
       "1  WASHINGTON (Reuters) - Transgender people will...  politicsNews   \n",
       "2  WASHINGTON (Reuters) - The special counsel inv...  politicsNews   \n",
       "3  WASHINGTON (Reuters) - Trump campaign adviser ...  politicsNews   \n",
       "4  SEATTLE/WASHINGTON (Reuters) - President Donal...  politicsNews   \n",
       "\n",
       "                 date  \n",
       "0  December 31, 2017   \n",
       "1  December 29, 2017   \n",
       "2  December 31, 2017   \n",
       "3  December 30, 2017   \n",
       "4  December 29, 2017   "
      ]
     },
     "execution_count": 15,
     "metadata": {},
     "output_type": "execute_result"
    }
   ],
   "source": [
    "true_data = pd.read_csv('data/True.csv')\n",
    "true_data.head()"
   ]
  },
  {
   "cell_type": "code",
   "execution_count": 16,
   "id": "47dec559-6da7-4c22-921a-3469bf811b33",
   "metadata": {},
   "outputs": [],
   "source": [
    "true_data[\"label\"] = 1\n",
    "fake_data[\"label\"] = 0"
   ]
  },
  {
   "cell_type": "code",
   "execution_count": 17,
   "id": "467f8e8d-eea2-47ef-b410-4d9b247c4cb9",
   "metadata": {},
   "outputs": [],
   "source": [
    "data = pd.concat([true_data, fake_data], axis=0)"
   ]
  },
  {
   "cell_type": "code",
   "execution_count": 18,
   "id": "a2cd017b-1573-4a8e-99a6-45d3e1a63396",
   "metadata": {},
   "outputs": [
    {
     "data": {
      "text/plain": [
       "[Text(0, 0, 'politicsNews'),\n",
       " Text(1, 0, 'worldnews'),\n",
       " Text(2, 0, 'News'),\n",
       " Text(3, 0, 'politics'),\n",
       " Text(4, 0, 'Government News'),\n",
       " Text(5, 0, 'left-news'),\n",
       " Text(6, 0, 'US_News'),\n",
       " Text(7, 0, 'Middle-east')]"
      ]
     },
     "execution_count": 18,
     "metadata": {},
     "output_type": "execute_result"
    },
    {
     "data": {
      "image/png": "[encoded data removed]",
      "text/plain": [
       "<Figure size 600x400 with 1 Axes>"
      ]
     },
     "metadata": {},
     "output_type": "display_data"
    }
   ],
   "source": [
    "plt.figure(figsize = (6,4))\n",
    "sns.set(style = \"whitegrid\",font_scale = 1.0)\n",
    "chart = sns.countplot(x = \"subject\", data = data)\n",
    "chart.set_xticklabels(chart.get_xticklabels(),rotation=90)"
   ]
  },
  {
   "cell_type": "code",
   "execution_count": 19,
   "id": "ff0ad7be-0b9c-4ed4-b18a-7874cafb87d5",
   "metadata": {},
   "outputs": [],
   "source": [
    "data['text'] = data['title'] +' '+data['text']\n",
    "# Either you could data.drop[\"column names\"] or del data[\"column names\"]\n",
    "del data['title']\n",
    "del data['subject']\n",
    "del data['date']"
   ]
  },
  {
   "cell_type": "code",
   "execution_count": 20,
   "id": "355a2bed-2b2a-4cf7-8798-5f39a1be8c29",
   "metadata": {},
   "outputs": [
    {
     "data": {
      "text/html": [
       "<div>\n",
       "<style scoped>\n",
       "    .dataframe tbody tr th:only-of-type {\n",
       "        vertical-align: middle;\n",
       "    }\n",
       "\n",
       "    .dataframe tbody tr th {\n",
       "        vertical-align: top;\n",
       "    }\n",
       "\n",
       "    .dataframe thead th {\n",
       "        text-align: right;\n",
       "    }\n",
       "</style>\n",
       "<table border=\"1\" class=\"dataframe\">\n",
       "  <thead>\n",
       "    <tr style=\"text-align: right;\">\n",
       "      <th></th>\n",
       "      <th>text</th>\n",
       "      <th>label</th>\n",
       "    </tr>\n",
       "  </thead>\n",
       "  <tbody>\n",
       "    <tr>\n",
       "      <th>0</th>\n",
       "      <td>As U.S. budget fight looms, Republicans flip t...</td>\n",
       "      <td>1</td>\n",
       "    </tr>\n",
       "    <tr>\n",
       "      <th>1</th>\n",
       "      <td>U.S. military to accept transgender recruits o...</td>\n",
       "      <td>1</td>\n",
       "    </tr>\n",
       "    <tr>\n",
       "      <th>2</th>\n",
       "      <td>Senior U.S. Republican senator: 'Let Mr. Muell...</td>\n",
       "      <td>1</td>\n",
       "    </tr>\n",
       "    <tr>\n",
       "      <th>3</th>\n",
       "      <td>FBI Russia probe helped by Australian diplomat...</td>\n",
       "      <td>1</td>\n",
       "    </tr>\n",
       "    <tr>\n",
       "      <th>4</th>\n",
       "      <td>Trump wants Postal Service to charge 'much mor...</td>\n",
       "      <td>1</td>\n",
       "    </tr>\n",
       "  </tbody>\n",
       "</table>\n",
       "</div>"
      ],
      "text/plain": [
       "                                                text  label\n",
       "0  As U.S. budget fight looms, Republicans flip t...      1\n",
       "1  U.S. military to accept transgender recruits o...      1\n",
       "2  Senior U.S. Republican senator: 'Let Mr. Muell...      1\n",
       "3  FBI Russia probe helped by Australian diplomat...      1\n",
       "4  Trump wants Postal Service to charge 'much mor...      1"
      ]
     },
     "execution_count": 20,
     "metadata": {},
     "output_type": "execute_result"
    }
   ],
   "source": [
    "data.head()"
   ]
  },
  {
   "cell_type": "code",
   "execution_count": 21,
   "id": "1718333c-4b1d-417b-9803-e50420d48d8e",
   "metadata": {},
   "outputs": [
    {
     "data": {
      "text/html": [
       "<div>\n",
       "<style scoped>\n",
       "    .dataframe tbody tr th:only-of-type {\n",
       "        vertical-align: middle;\n",
       "    }\n",
       "\n",
       "    .dataframe tbody tr th {\n",
       "        vertical-align: top;\n",
       "    }\n",
       "\n",
       "    .dataframe thead th {\n",
       "        text-align: right;\n",
       "    }\n",
       "</style>\n",
       "<table border=\"1\" class=\"dataframe\">\n",
       "  <thead>\n",
       "    <tr style=\"text-align: right;\">\n",
       "      <th></th>\n",
       "      <th>text</th>\n",
       "      <th>label</th>\n",
       "    </tr>\n",
       "  </thead>\n",
       "  <tbody>\n",
       "    <tr>\n",
       "      <th>0</th>\n",
       "      <td>Hamas calls for Palestinian uprising against I...</td>\n",
       "      <td>1</td>\n",
       "    </tr>\n",
       "    <tr>\n",
       "      <th>1</th>\n",
       "      <td>Trump criticizes Congress's move weakening eth...</td>\n",
       "      <td>1</td>\n",
       "    </tr>\n",
       "    <tr>\n",
       "      <th>2</th>\n",
       "      <td>Melania's Slovenian hometown eyes Trump win as...</td>\n",
       "      <td>1</td>\n",
       "    </tr>\n",
       "    <tr>\n",
       "      <th>3</th>\n",
       "      <td>Special Counsel Mueller filing shows Manafort ...</td>\n",
       "      <td>1</td>\n",
       "    </tr>\n",
       "    <tr>\n",
       "      <th>4</th>\n",
       "      <td>Politico Just Threw MAJOR Shade At Trump Over...</td>\n",
       "      <td>0</td>\n",
       "    </tr>\n",
       "  </tbody>\n",
       "</table>\n",
       "</div>"
      ],
      "text/plain": [
       "                                                text  label\n",
       "0  Hamas calls for Palestinian uprising against I...      1\n",
       "1  Trump criticizes Congress's move weakening eth...      1\n",
       "2  Melania's Slovenian hometown eyes Trump win as...      1\n",
       "3  Special Counsel Mueller filing shows Manafort ...      1\n",
       "4   Politico Just Threw MAJOR Shade At Trump Over...      0"
      ]
     },
     "execution_count": 21,
     "metadata": {},
     "output_type": "execute_result"
    }
   ],
   "source": [
    "data = data.sample(frac=1).reset_index(drop=True)\n",
    "data.head()"
   ]
  },
  {
   "cell_type": "code",
   "execution_count": 22,
   "id": "e891ab2e-296f-4f87-9bb1-7a5596a65fe6",
   "metadata": {},
   "outputs": [],
   "source": [
    "def find_avg_sentence_length(text_file_paths):\n",
    "    \"\"\"\n",
    "    Find the average sentence in the entire training set. \n",
    "    :param text_file_paths: List, containing all the text file paths.\n",
    "    Returns:\n",
    "        avg_len: Average length.\n",
    "    \"\"\"\n",
    "    sentence_lengths = []\n",
    "    for path in text_file_paths:\n",
    "        with open(path, 'r') as f:\n",
    "            text = f.read()\n",
    "            # Remove <br> tags.\n",
    "            text = re.sub('<[^>]+>+', '', text)\n",
    "            corpus = [\n",
    "                word for word in text.split()\n",
    "            ]\n",
    "        sentence_lengths.append(len(corpus))\n",
    "    return sum(sentence_lengths)/len(sentence_lengths)"
   ]
  },
  {
   "cell_type": "code",
   "execution_count": 23,
   "id": "819936a3-7c86-4220-9b8b-ee01f0ff9ed1",
   "metadata": {},
   "outputs": [
    {
     "name": "stderr",
     "output_type": "stream",
     "text": [
      "[nltk_data] Downloading package punkt to /home/u194151/nltk_data...\n",
      "[nltk_data]   Package punkt is already up-to-date!\n",
      "[nltk_data] Downloading package stopwords to\n",
      "[nltk_data]     /home/u194151/nltk_data...\n",
      "[nltk_data]   Package stopwords is already up-to-date!\n"
     ]
    }
   ],
   "source": [
    "from tqdm import tqdm\n",
    "import re\n",
    "import nltk\n",
    "nltk.download('punkt')\n",
    "nltk.download('stopwords')\n",
    "from nltk.corpus import stopwords\n",
    "from nltk.tokenize import word_tokenize\n",
    "from nltk.stem.porter import PorterStemmer\n"
   ]
  },
  {
   "cell_type": "code",
   "execution_count": 24,
   "id": "b7cdf31d-4694-4bd9-ac9d-b1283e45fca4",
   "metadata": {},
   "outputs": [],
   "source": [
    "def preprocess_text(text_data):\n",
    "    preprocessed_text = []\n",
    "      \n",
    "    for sentence in tqdm(text_data):\n",
    "        sentence = re.sub(r'[^\\w\\s]', '', sentence)\n",
    "        preprocessed_text.append(' '.join(token.lower()\n",
    "                                  for token in str(sentence).split()\n",
    "                                  if token not in stopwords.words('english')))\n",
    "  \n",
    "    return preprocessed_text"
   ]
  },
  {
   "cell_type": "code",
   "execution_count": 25,
   "id": "76112789-786d-4267-ada5-97d7537dd4db",
   "metadata": {},
   "outputs": [
    {
     "name": "stderr",
     "output_type": "stream",
     "text": [
      "100%|██████████| 44898/44898 [30:11<00:00, 24.79it/s]\n"
     ]
    }
   ],
   "source": [
    "preprocessed_review = preprocess_text(data['text'].values)\n",
    "data['text'] = preprocessed_review"
   ]
  },
  {
   "cell_type": "code",
   "execution_count": 26,
   "id": "186eeb6b-ec56-4533-aec7-bb5876731e0e",
   "metadata": {},
   "outputs": [
    {
     "data": {
      "text/plain": [
       "<AxesSubplot:title={'center':'Bar Chart of Top Words Frequency'}, xlabel='Top Words', ylabel='Count'>"
      ]
     },
     "execution_count": 26,
     "metadata": {},
     "output_type": "execute_result"
    },
    {
     "data": {
      "image/png": "[encoded data removed]",
      "text/plain": [
       "<Figure size 1000x600 with 1 Axes>"
      ]
     },
     "metadata": {},
     "output_type": "display_data"
    }
   ],
   "source": [
    "from sklearn.feature_extraction.text import CountVectorizer\n",
    "  \n",
    "  \n",
    "def get_top_n_words(corpus, n=None):\n",
    "    vec = CountVectorizer().fit(corpus)\n",
    "    bag_of_words = vec.transform(corpus)\n",
    "    sum_words = bag_of_words.sum(axis=0)\n",
    "    words_freq = [(word, sum_words[0, idx])\n",
    "                  for word, idx in vec.vocabulary_.items()]\n",
    "    words_freq = sorted(words_freq, key=lambda x: x[1],\n",
    "                        reverse=True)\n",
    "    return words_freq[:n]\n",
    "  \n",
    "  \n",
    "common_words = get_top_n_words(data['text'], 20)\n",
    "df1 = pd.DataFrame(common_words, columns=['Review', 'count'])\n",
    "  \n",
    "df1.groupby('Review').sum()['count'].sort_values(ascending=False).plot(\n",
    "    kind='bar',\n",
    "    figsize=(10, 6),\n",
    "    xlabel=\"Top Words\",\n",
    "    ylabel=\"Count\",\n",
    "    title=\"Bar Chart of Top Words Frequency\"\n",
    ")"
   ]
  },
  {
   "cell_type": "code",
   "execution_count": 27,
   "id": "6d7d365a-b730-4e03-a04c-e2c919b769ba",
   "metadata": {},
   "outputs": [],
   "source": [
    " def standardize_text(self, input_text):\n",
    "        # Convert everything to lower case.\n",
    "        text = input_text.lower()\n",
    "        # If the text contains HTML tags, remove them.\n",
    "        text = re.sub('<[^>]+>+', '', text)\n",
    "        # Remove punctuation marks using `string` module.\n",
    "        # According to `string`, the following will be removed,\n",
    "        # '!\"#$%&\\'()*+,-./:;<=>?@[\\\\]^_`{|}~'\n",
    "        text = ''.join([\n",
    "            character for character in text \\\n",
    "                if character not in string.punctuation\n",
    "        ])\n",
    "        return text"
   ]
  },
  {
   "cell_type": "code",
   "execution_count": 28,
   "id": "a2c7947c-a7b8-48d4-96bd-414b822fbcb3",
   "metadata": {
    "jupyter": {
     "source_hidden": true
    },
    "tags": []
   },
   "outputs": [],
   "source": [
    "from sklearn.model_selection import train_test_split\n",
    "from sklearn.metrics import accuracy_score\n",
    "from sklearn.linear_model import LogisticRegression\n",
    "  \n",
    "x_train, x_test, y_train, y_test = train_test_split(data['text'], \n",
    "                                                    data['label'], \n",
    "                                                    test_size=0.25)"
   ]
  },
  {
   "cell_type": "code",
   "execution_count": 29,
   "id": "87730b84-059c-4bd0-b50b-ff8b5eb8ac21",
   "metadata": {},
   "outputs": [],
   "source": [
    "from sklearn.feature_extraction.text import TfidfVectorizer\n",
    "  \n",
    "vectorization = TfidfVectorizer()\n",
    "x_train = vectorization.fit_transform(x_train)\n",
    "x_test = vectorization.transform(x_test)"
   ]
  },
  {
   "cell_type": "code",
   "execution_count": 30,
   "id": "e070c5a7-1d18-4c48-b289-84ff274db118",
   "metadata": {
    "tags": []
   },
   "outputs": [
    {
     "name": "stdout",
     "output_type": "stream",
     "text": [
      "0.9948029578594126\n",
      "0.9899331848552338\n"
     ]
    }
   ],
   "source": [
    "from sklearn.linear_model import LogisticRegression\n",
    "  \n",
    "model = LogisticRegression()\n",
    "model.fit(x_train, y_train)\n",
    "  \n",
    "# testing the model\n",
    "print(accuracy_score(y_train, model.predict(x_train)))\n",
    "print(accuracy_score(y_test, model.predict(x_test)))"
   ]
  },
  {
   "cell_type": "code",
   "execution_count": 31,
   "id": "70feeeb6-0d34-40d2-9c7d-40976a209336",
   "metadata": {
    "tags": []
   },
   "outputs": [
    {
     "name": "stdout",
     "output_type": "stream",
     "text": [
      "1.0\n",
      "0.9962583518930958\n"
     ]
    }
   ],
   "source": [
    "from sklearn.tree import DecisionTreeClassifier\n",
    "  \n",
    "model = DecisionTreeClassifier()\n",
    "model.fit(x_train, y_train)\n",
    "  \n",
    "# testing the model\n",
    "print(accuracy_score(y_train, model.predict(x_train)))\n",
    "print(accuracy_score(y_test, model.predict(x_test)))"
   ]
  },
  {
   "cell_type": "code",
   "execution_count": 32,
   "id": "0d3e5230-5582-4ec0-947b-2d55ce342b37",
   "metadata": {
    "tags": []
   },
   "outputs": [
    {
     "data": {
      "image/png": "[encoded data removed]",
      "text/plain": [
       "<Figure size 640x480 with 2 Axes>"
      ]
     },
     "metadata": {},
     "output_type": "display_data"
    }
   ],
   "source": [
    "from sklearn import metrics\n",
    "cm = metrics.confusion_matrix(y_test, model.predict(x_test))\n",
    "  \n",
    "cm_display = metrics.ConfusionMatrixDisplay(confusion_matrix=cm,\n",
    "                                            display_labels=[False, True])\n",
    "  \n",
    "cm_display.plot()\n",
    "plt.show()"
   ]
  },
  {
   "cell_type": "code",
   "execution_count": 33,
   "id": "3f841b16-c1f6-49db-b467-8615b615b148",
   "metadata": {},
   "outputs": [
    {
     "data": {
      "text/html": [
       "<div>\n",
       "<style scoped>\n",
       "    .dataframe tbody tr th:only-of-type {\n",
       "        vertical-align: middle;\n",
       "    }\n",
       "\n",
       "    .dataframe tbody tr th {\n",
       "        vertical-align: top;\n",
       "    }\n",
       "\n",
       "    .dataframe thead th {\n",
       "        text-align: right;\n",
       "    }\n",
       "</style>\n",
       "<table border=\"1\" class=\"dataframe\">\n",
       "  <thead>\n",
       "    <tr style=\"text-align: right;\">\n",
       "      <th></th>\n",
       "      <th>tweet</th>\n",
       "      <th>label</th>\n",
       "    </tr>\n",
       "  </thead>\n",
       "  <tbody>\n",
       "    <tr>\n",
       "      <th>0</th>\n",
       "      <td>Our daily update is published. States reported...</td>\n",
       "      <td>real</td>\n",
       "    </tr>\n",
       "    <tr>\n",
       "      <th>1</th>\n",
       "      <td>Alfalfa is the only cure for COVID-19.</td>\n",
       "      <td>fake</td>\n",
       "    </tr>\n",
       "    <tr>\n",
       "      <th>2</th>\n",
       "      <td>President Trump Asked What He Would Do If He W...</td>\n",
       "      <td>fake</td>\n",
       "    </tr>\n",
       "    <tr>\n",
       "      <th>3</th>\n",
       "      <td>States reported 630 deaths. We are still seein...</td>\n",
       "      <td>real</td>\n",
       "    </tr>\n",
       "    <tr>\n",
       "      <th>4</th>\n",
       "      <td>This is the sixth time a global health emergen...</td>\n",
       "      <td>real</td>\n",
       "    </tr>\n",
       "  </tbody>\n",
       "</table>\n",
       "</div>"
      ],
      "text/plain": [
       "                                               tweet label\n",
       "0  Our daily update is published. States reported...  real\n",
       "1             Alfalfa is the only cure for COVID-19.  fake\n",
       "2  President Trump Asked What He Would Do If He W...  fake\n",
       "3  States reported 630 deaths. We are still seein...  real\n",
       "4  This is the sixth time a global health emergen...  real"
      ]
     },
     "execution_count": 33,
     "metadata": {},
     "output_type": "execute_result"
    }
   ],
   "source": [
    "data2 = pd.read_csv('data/data2.csv')\n",
    "data2.head()"
   ]
  },
  {
   "cell_type": "code",
   "execution_count": 34,
   "id": "00e712af-6c97-4fad-b8b3-bf86e308afc4",
   "metadata": {},
   "outputs": [
    {
     "ename": "NameError",
     "evalue": "name 'preprocess_text2' is not defined",
     "output_type": "error",
     "traceback": [
      "\u001b[0;31m---------------------------------------------------------------------------\u001b[0m",
      "\u001b[0;31mNameError\u001b[0m                                 Traceback (most recent call last)",
      "Cell \u001b[0;32mIn[34], line 1\u001b[0m\n\u001b[0;32m----> 1\u001b[0m preprocessed_review2 \u001b[38;5;241m=\u001b[39m \u001b[43mpreprocess_text2\u001b[49m(data2[\u001b[38;5;124m'\u001b[39m\u001b[38;5;124mtweet\u001b[39m\u001b[38;5;124m'\u001b[39m]\u001b[38;5;241m.\u001b[39mvalues)\n\u001b[1;32m      2\u001b[0m data2[\u001b[38;5;124m'\u001b[39m\u001b[38;5;124mtweet\u001b[39m\u001b[38;5;124m'\u001b[39m] \u001b[38;5;241m=\u001b[39m preprocessed_review2\n",
      "\u001b[0;31mNameError\u001b[0m: name 'preprocess_text2' is not defined"
     ]
    }
   ],
   "source": [
    "preprocessed_review2 = preprocess_text2(data2['tweet'].values)\n",
    "data2['tweet'] = preprocessed_review2"
   ]
  },
  {
   "cell_type": "code",
   "execution_count": null,
   "id": "22456f14-2c65-492c-8f40-d23d656f688a",
   "metadata": {},
   "outputs": [],
   "source": []
  }
 ],
 "metadata": {
  "kernelspec": {
   "display_name": "PyTorch (AI kit)",
   "language": "python",
   "name": "c009-intel_distribution_of_python_3_oneapi-beta05-pytorch"
  },
  "language_info": {
   "codemirror_mode": {
    "name": "ipython",
    "version": 3
   },
   "file_extension": ".py",
   "mimetype": "text/x-python",
   "name": "python",
   "nbconvert_exporter": "python",
   "pygments_lexer": "ipython3",
   "version": "3.9.16"
  }
 },
 "nbformat": 4,
 "nbformat_minor": 5
}
